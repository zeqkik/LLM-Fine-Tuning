{
  "nbformat": 4,
  "nbformat_minor": 0,
  "metadata": {
    "colab": {
      "provenance": [],
      "gpuType": "T4",
      "authorship_tag": "ABX9TyNKyKkowfiPfvD08atrEmJQ",
      "include_colab_link": true
    },
    "kernelspec": {
      "name": "python3",
      "display_name": "Python 3"
    },
    "language_info": {
      "name": "python"
    },
    "accelerator": "GPU"
  },
  "cells": [
    {
      "cell_type": "markdown",
      "metadata": {
        "id": "view-in-github",
        "colab_type": "text"
      },
      "source": [
        "<a href=\"https://colab.research.google.com/github/zeqkik/LLM-Fine-Tuning/blob/main/fine_tuning_project.ipynb\" target=\"_parent\"><img src=\"https://colab.research.google.com/assets/colab-badge.svg\" alt=\"Open In Colab\"/></a>"
      ]
    },
    {
      "cell_type": "code",
      "source": [
        "from google.colab import drive\n",
        "drive.mount('/content/drive')"
      ],
      "metadata": {
        "colab": {
          "base_uri": "https://localhost:8080/"
        },
        "id": "wRyBV-k-ROJ_",
        "outputId": "2c03cf67-07d8-42a9-cb55-0a2fdbb6aaf8"
      },
      "execution_count": 1,
      "outputs": [
        {
          "output_type": "stream",
          "name": "stdout",
          "text": [
            "Drive already mounted at /content/drive; to attempt to forcibly remount, call drive.mount(\"/content/drive\", force_remount=True).\n"
          ]
        }
      ]
    },
    {
      "cell_type": "code",
      "source": [
        "import torch\n",
        "if torch.cuda.is_available():\n",
        "    print(\"GPU está disponível! Usando:\", torch.cuda.get_device_name(0))\n",
        "    device = \"cuda\"\n",
        "else:\n",
        "    print(\"Nenhuma GPU disponível. Usando CPU. O treinamento será lento.\")\n",
        "    device = \"cpu\""
      ],
      "metadata": {
        "colab": {
          "base_uri": "https://localhost:8080/"
        },
        "id": "1QeCUn7YlbRJ",
        "outputId": "061fbb51-9762-4957-c8dd-e552ffffc051"
      },
      "execution_count": 2,
      "outputs": [
        {
          "output_type": "stream",
          "name": "stdout",
          "text": [
            "GPU está disponível! Usando: Tesla T4\n"
          ]
        }
      ]
    },
    {
      "cell_type": "code",
      "source": [
        "from huggingface_hub import login\n",
        "login() # Siga as instruções para colar seu token de acesso."
      ],
      "metadata": {
        "id": "YGIOHfnym5Rh"
      },
      "execution_count": null,
      "outputs": []
    },
    {
      "cell_type": "code",
      "source": [
        "from transformers import AutoTokenizer, AutoModelForCausalLM\n",
        "import torch"
      ],
      "metadata": {
        "id": "MAl7HkPf4lvc"
      },
      "execution_count": 5,
      "outputs": []
    },
    {
      "cell_type": "code",
      "source": [
        "\n",
        "\n",
        "# Nome do modelo Gemma 2B\n",
        "model_id = \"google/gemma-2b\"\n",
        "\n",
        "# Carrega o tokenizador\n",
        "# Carrega o tokenizador\n",
        "tokenizer_gemma = AutoTokenizer.from_pretrained(model_id)\n",
        "\n",
        "# *** MODIFICAÇÃO CHAVE AQUI: Definir o pad_token se não existir ***\n",
        "# Isso é VITAL para evitar loops na função .generate()\n",
        "if tokenizer_gemma.pad_token is None:\n",
        "    tokenizer_gemma.pad_token = tokenizer_gemma.eos_token\n",
        "    print(f\"pad_token definido como eos_token: {tokenizer_gemma.pad_token}\")\n",
        "\n",
        "\n"
      ],
      "metadata": {
        "collapsed": true,
        "id": "SggnlLENloLx"
      },
      "execution_count": 11,
      "outputs": []
    },
    {
      "cell_type": "code",
      "source": [
        "# Carrega o modelo\n",
        "# load_in_4bit=True faz o carregamento quantizado para economizar memória da GPU\n",
        "# torch_dtype=torch.bfloat16 (ou torch.float16) para melhor desempenho em GPUs compatíveis\n",
        "# device_map=\"auto\" distribui o modelo automaticamente pela GPU(s)\n",
        "model = AutoModelForCausalLM.from_pretrained(\n",
        "    model_id,\n",
        "    torch_dtype=torch.bfloat16, # Ou torch.float16 se bfloat16 não for suportado pela GPU\n",
        "    device_map=\"auto\",\n",
        "    load_in_4bit=True # Para economizar memória da GPU\n",
        ")\n"
      ],
      "metadata": {
        "id": "-kIWEMY9x7lv"
      },
      "execution_count": null,
      "outputs": []
    },
    {
      "cell_type": "code",
      "source": [
        "text = \"O que você sabe sobre o jogo UNO?\"\n",
        "device = \"cuda:0\"\n",
        "inputs = tokenizer(text, return_tensors=\"pt\").to(device)\n"
      ],
      "metadata": {
        "id": "BxelWHX7mxMq"
      },
      "execution_count": 6,
      "outputs": []
    },
    {
      "cell_type": "code",
      "source": [
        "model_id = \"google/gemma-7b-it\"\n",
        "\n",
        "tokenizer_gemma = AutoTokenizer.from_pretrained(model_id)\n",
        "\n",
        "model_gemma = AutoModelForCausalLM.from_pretrained(\n",
        "    model_id,\n",
        "    torch_dtype=torch.bfloat16,\n",
        "    device_map=\"auto\",\n",
        "    load_in_4bit=True\n",
        ")\n"
      ],
      "metadata": {
        "id": "sl9-SDBz33aB"
      },
      "execution_count": null,
      "outputs": []
    },
    {
      "cell_type": "code",
      "source": [
        "def generate_response(prompt_text):\n",
        "  input_ids = tokenizer_gemma(prompt_text, return_tensors=\"pt\").to(model_gemma.device)\n",
        "\n",
        "  outputs = model_gemma.generate(\n",
        "        **input_ids,\n",
        "        max_new_tokens=50,\n",
        "    )\n",
        "\n",
        "  response = tokenizer_gemma.decode(outputs[0], skip_special_tokens=True)\n",
        "  return response\n"
      ],
      "metadata": {
        "id": "P0_xYz7C7dyp"
      },
      "execution_count": 55,
      "outputs": []
    },
    {
      "cell_type": "code",
      "source": [
        "prompt_1 = \"\"\"\n",
        "Você está jogando Uno.\n",
        "A carta no descarte é: Vermelho 7\n",
        "Minha mão tem as seguintes cartas: [Azul 3, Vermelho 8, Verde 5, +2 Amarelo].\n",
        "Qual carta você pode jogar?\n",
        "\"\"\""
      ],
      "metadata": {
        "id": "rE0kdGr08JWp"
      },
      "execution_count": 56,
      "outputs": []
    },
    {
      "cell_type": "code",
      "source": [
        "print(generate_response(prompt_1))"
      ],
      "metadata": {
        "colab": {
          "base_uri": "https://localhost:8080/"
        },
        "id": "Wq7ZLiZ499az",
        "outputId": "9e8e047a-b60e-48c3-8b11-03bb69b7c4dd"
      },
      "execution_count": 54,
      "outputs": [
        {
          "output_type": "stream",
          "name": "stdout",
          "text": [
            "\n",
            "Você está jogando Uno.\n",
            "A carta no descarte é: Vermelho 7\n",
            "Minha mão tem as seguintes cartas: [Azul 3, Vermelho 8, Verde 5, +2 Amarelo].\n",
            "Qual carta você pode jogar?\n",
            "A. Azul 3\n",
            "B. Verde 5\n",
            "C. Vermelho 8\n",
            "D. +2 Amarelo\n",
            "\n",
            "A resposta para a questão é a carta Vermelho 8.\n",
            "\n",
            "A carta no descarte é Vermelho \n"
          ]
        }
      ]
    },
    {
      "cell_type": "code",
      "source": [
        "prompt_2 = \"\"\"\n",
        "Você está jogando Uno.\n",
        "A carta no descarte é: Vermelho +2.\n",
        "Sua mão tem as seguintes cartas: [Verde 0, Azul 1, Bloquear Vermelho].\n",
        "Qual carta você pode jogar?\n",
        "\"\"\""
      ],
      "metadata": {
        "id": "EU7o2sJk9_lW"
      },
      "execution_count": 59,
      "outputs": []
    },
    {
      "cell_type": "code",
      "source": [
        "print(generate_response(prompt_2))"
      ],
      "metadata": {
        "colab": {
          "base_uri": "https://localhost:8080/"
        },
        "id": "9rhLPjPh-kki",
        "outputId": "981ed0ce-d163-4876-b2e2-160afa825107"
      },
      "execution_count": 60,
      "outputs": [
        {
          "output_type": "stream",
          "name": "stdout",
          "text": [
            "\n",
            "Você está jogando Uno.\n",
            "A carta no descarte é: Vermelho +2.\n",
            "Sua mão tem as seguintes cartas: [Verde 0, Azul 1, Bloquear Vermelho].\n",
            "Qual carta você pode jogar?\n",
            "**Resposta:** A carta que você podem jogar é a carta Verde 2, pois a regra do Veretchup + 3 exige que o jogador jogue uma carta de mesmo nome que foi lançada no início do jogo.\n"
          ]
        }
      ]
    },
    {
      "cell_type": "code",
      "source": [
        "prompt_3 = \"\"\"\n",
        "Você está jogando Uno.\n",
        "A carta no descarte é: Azul 4.\n",
        "Sua mão tem as seguintes cartas: [Verde 0, Azul 1, Bloquear Vermelho].\n",
        "Qual carta você pode jogar?\n",
        "\"\"\""
      ],
      "metadata": {
        "id": "DQMD7gRp_SyJ"
      },
      "execution_count": 61,
      "outputs": []
    },
    {
      "cell_type": "code",
      "source": [
        "print(generate_response(prompt_3))"
      ],
      "metadata": {
        "colab": {
          "base_uri": "https://localhost:8080/"
        },
        "id": "dAcTTecbBH3b",
        "outputId": "0421a3d3-c108-4176-de53-897900d12ccc"
      },
      "execution_count": 62,
      "outputs": [
        {
          "output_type": "stream",
          "name": "stdout",
          "text": [
            "\n",
            "Você está jogando Uno.\n",
            "A carta no descarte é: Azul 4.\n",
            "Sua mão tem as seguintes cartas: [Verde 0, Azul 1, Bloquear Vermelho].\n",
            "Qual carta você pode jogar?\n",
            "**Resposta:** O Verde 2.\n",
            "\n",
            "**Explicação:**\n",
            "\n",
            "No momento em que a carta Azul foi descartada, a regra do \"Uno\" exige que o próximo carta seja de mesmo número ou de mesma cor. Na mão do jogador,\n"
          ]
        }
      ]
    },
    {
      "cell_type": "code",
      "source": [],
      "metadata": {
        "id": "kI1Ebl74BJXl"
      },
      "execution_count": null,
      "outputs": []
    }
  ]
}