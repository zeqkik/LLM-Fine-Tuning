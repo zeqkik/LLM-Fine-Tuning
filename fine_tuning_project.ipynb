{
  "nbformat": 4,
  "nbformat_minor": 0,
  "metadata": {
    "colab": {
      "provenance": [],
      "authorship_tag": "ABX9TyPHijmgj2C1qS/Leo9wk6kC",
      "include_colab_link": true
    },
    "kernelspec": {
      "name": "python3",
      "display_name": "Python 3"
    },
    "language_info": {
      "name": "python"
    }
  },
  "cells": [
    {
      "cell_type": "markdown",
      "metadata": {
        "id": "view-in-github",
        "colab_type": "text"
      },
      "source": [
        "<a href=\"https://colab.research.google.com/github/zeqkik/LLM-Fine-Tuning/blob/main/fine_tuning_project.ipynb\" target=\"_parent\"><img src=\"https://colab.research.google.com/assets/colab-badge.svg\" alt=\"Open In Colab\"/></a>"
      ]
    },
    {
      "cell_type": "code",
      "execution_count": 1,
      "metadata": {
        "colab": {
          "base_uri": "https://localhost:8080/"
        },
        "id": "3Tgk72PkN7r3",
        "outputId": "37a08a7a-f271-4069-a8ac-1e74c952c4f8"
      },
      "outputs": [
        {
          "output_type": "stream",
          "name": "stdout",
          "text": [
            "Cloning into 'LLM-Fine-Tuning'...\n",
            "remote: Enumerating objects: 6, done.\u001b[K\n",
            "remote: Counting objects: 100% (6/6), done.\u001b[K\n",
            "remote: Compressing objects: 100% (3/3), done.\u001b[K\n",
            "remote: Total 6 (delta 0), reused 0 (delta 0), pack-reused 0 (from 0)\u001b[K\n",
            "Receiving objects: 100% (6/6), done.\n"
          ]
        }
      ],
      "source": [
        "!git clone https://github.com/zeqkik/LLM-Fine-Tuning.git"
      ]
    },
    {
      "cell_type": "code",
      "source": [
        "%cd LLM-Fine-Tuning\n"
      ],
      "metadata": {
        "colab": {
          "base_uri": "https://localhost:8080/"
        },
        "id": "Ots_5RgkODnI",
        "outputId": "7a82e901-65ee-427c-c2bb-1aba2c2efe6f"
      },
      "execution_count": 2,
      "outputs": [
        {
          "output_type": "stream",
          "name": "stdout",
          "text": [
            "/content/LLM-Fine-Tuning\n"
          ]
        }
      ]
    },
    {
      "cell_type": "code",
      "source": [
        "!git config --global user.name \"zeqkik\"\n",
        "!git config --global user.email \"ezequielcalmeida@gmail.com\""
      ],
      "metadata": {
        "id": "336l3tSwOS-n"
      },
      "execution_count": 3,
      "outputs": []
    },
    {
      "cell_type": "code",
      "source": [
        "!git add fine_tuning_project.ipynb"
      ],
      "metadata": {
        "colab": {
          "base_uri": "https://localhost:8080/"
        },
        "id": "ZT5t03t4OY37",
        "outputId": "73bb235d-bae7-4eda-c8ae-e2d702feac05"
      },
      "execution_count": 4,
      "outputs": [
        {
          "output_type": "stream",
          "name": "stdout",
          "text": [
            "fatal: pathspec 'fine_tuning_project.ipynb' did not match any files\n"
          ]
        }
      ]
    },
    {
      "cell_type": "code",
      "source": [
        "from google.colab import drive\n",
        "\n",
        "drive.mount('/content/drive')"
      ],
      "metadata": {
        "colab": {
          "base_uri": "https://localhost:8080/"
        },
        "id": "wHEYg0ibOrzy",
        "outputId": "806cb031-01a9-4e69-e648-c8f9de0b26c8"
      },
      "execution_count": 7,
      "outputs": [
        {
          "output_type": "stream",
          "name": "stdout",
          "text": [
            "Mounted at /content/drive\n"
          ]
        }
      ]
    },
    {
      "cell_type": "code",
      "source": [
        "!ls \"/content/drive/My Drive/\""
      ],
      "metadata": {
        "colab": {
          "base_uri": "https://localhost:8080/"
        },
        "id": "hVC60M1GO7Qd",
        "outputId": "9d1b083c-8692-4531-c9bd-6a174914e031"
      },
      "execution_count": 8,
      "outputs": [
        {
          "output_type": "stream",
          "name": "stdout",
          "text": [
            "'3x4 (1).pdf'\n",
            " 3x4.pdf\n",
            "'Avaliação Mestrado Dados Brasil Europa'$'\\n''.gdoc'\n",
            "'Chácara Formatura.gsheet'\n",
            "'Colab Notebooks'\n",
            "'Cópia de Anexo V.docx'\n",
            "'Cópia de Anexo V.docx (1).pdf'\n",
            " Currículo\n",
            " Cursos\n",
            " declaracao_mestrado_icmc_%281%29_assinado.pdf\n",
            "'Designing Data-Intensive Applications - Martin Kleppmann.pdf'\n",
            " Documentos\n",
            " download.pdf\n",
            " Espanhol\n",
            " Fotos\n",
            " Graduação\n",
            "'Hands-On Large Language Models.pdf'\n",
            " HistoricoEscolarAluno.pdf\n",
            " IC\n",
            " Intercâmbio\n",
            " Livros\n",
            "'Machine learning and data science blueprints for finance.pdf'\n",
            " Model.zip\n",
            "'Para Giulia.gdoc'\n",
            "'Planejamento pessoal'\n",
            "'Planilha sem título (1).gsheet'\n",
            "'Planilha sem título.gsheet'\n",
            "'Pós Graduação'\n",
            " rg.pdf\n",
            "'set do zekinho auuuuuu.gdoc'\n",
            "'Sigma Tasks'\n"
          ]
        }
      ]
    },
    {
      "cell_type": "code",
      "source": [
        "!git add ."
      ],
      "metadata": {
        "id": "XXuJ7YtQPME2"
      },
      "execution_count": 10,
      "outputs": []
    },
    {
      "cell_type": "code",
      "source": [
        "!git commit -m \"notebook creation\""
      ],
      "metadata": {
        "colab": {
          "base_uri": "https://localhost:8080/"
        },
        "id": "hokeAzAwPecb",
        "outputId": "7917c02a-d122-46b7-ea75-3e59d6ba5c0f"
      },
      "execution_count": 11,
      "outputs": [
        {
          "output_type": "stream",
          "name": "stdout",
          "text": [
            "On branch main\n",
            "Your branch is up to date with 'origin/main'.\n",
            "\n",
            "nothing to commit, working tree clean\n"
          ]
        }
      ]
    },
    {
      "cell_type": "code",
      "source": [
        "!git push"
      ],
      "metadata": {
        "colab": {
          "base_uri": "https://localhost:8080/"
        },
        "id": "D_dBTNEZPjK5",
        "outputId": "551dbde3-5a70-4515-d1cf-4dc57fc8a844"
      },
      "execution_count": 12,
      "outputs": [
        {
          "output_type": "stream",
          "name": "stdout",
          "text": [
            "fatal: could not read Username for 'https://github.com': No such device or address\n"
          ]
        }
      ]
    },
    {
      "cell_type": "code",
      "source": [
        "!git remote -v"
      ],
      "metadata": {
        "colab": {
          "base_uri": "https://localhost:8080/"
        },
        "id": "-OWvOzJxPjxt",
        "outputId": "3df139d8-7ce5-4e0b-9135-0b3ec9d78e15"
      },
      "execution_count": 13,
      "outputs": [
        {
          "output_type": "stream",
          "name": "stdout",
          "text": [
            "origin\thttps://github.com/zeqkik/LLM-Fine-Tuning.git (fetch)\n",
            "origin\thttps://github.com/zeqkik/LLM-Fine-Tuning.git (push)\n"
          ]
        }
      ]
    },
    {
      "cell_type": "code",
      "source": [],
      "metadata": {
        "id": "drg6NqnqQEld"
      },
      "execution_count": null,
      "outputs": []
    }
  ]
}