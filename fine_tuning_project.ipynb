{
  "nbformat": 4,
  "nbformat_minor": 0,
  "metadata": {
    "colab": {
      "provenance": [],
      "gpuType": "A100",
      "mount_file_id": "https://github.com/zeqkik/LLM-Fine-Tuning/blob/main/fine_tuning_project.ipynb",
      "authorship_tag": "ABX9TyNCZ5i/Tjt9/eC3v2Lsjtod",
      "include_colab_link": true
    },
    "kernelspec": {
      "name": "python3",
      "display_name": "Python 3"
    },
    "language_info": {
      "name": "python"
    },
    "accelerator": "GPU"
  },
  "cells": [
    {
      "cell_type": "markdown",
      "metadata": {
        "id": "view-in-github",
        "colab_type": "text"
      },
      "source": [
        "<a href=\"https://colab.research.google.com/github/zeqkik/LLM-Fine-Tuning/blob/main/fine_tuning_project.ipynb\" target=\"_parent\"><img src=\"https://colab.research.google.com/assets/colab-badge.svg\" alt=\"Open In Colab\"/></a>"
      ]
    },
    {
      "cell_type": "code",
      "source": [
        "!pip install bitsandbytes\n",
        "!pip install trl"
      ],
      "metadata": {
        "id": "vnqVoRiJh7_j"
      },
      "execution_count": null,
      "outputs": []
    },
    {
      "cell_type": "code",
      "source": [
        "import pandas as pd\n",
        "import numpy as np\n",
        "import torch\n",
        "import random\n",
        "import time\n",
        "from trl import SFTTrainer, SFTConfig\n",
        "from peft import LoraConfig, get_peft_model\n",
        "import google.generativeai as genai\n",
        "from google.colab import userdata\n",
        "from huggingface_hub import login\n",
        "from transformers import AutoTokenizer, AutoModelForCausalLM\n",
        "from google.colab import drive\n",
        "from datasets import Dataset"
      ],
      "metadata": {
        "id": "wRyBV-k-ROJ_"
      },
      "execution_count": 4,
      "outputs": []
    },
    {
      "cell_type": "code",
      "source": [
        "import bitsandbytes\n",
        "from trl import SFTTrainer, SFTConfig\n",
        "from peft import LoraConfig, get_peft_model"
      ],
      "metadata": {
        "id": "jpq7IzNT7V19"
      },
      "execution_count": 5,
      "outputs": []
    },
    {
      "cell_type": "code",
      "source": [
        "drive.mount('/content/drive')"
      ],
      "metadata": {
        "colab": {
          "base_uri": "https://localhost:8080/"
        },
        "id": "LH9s7JLDy60I",
        "outputId": "55c21905-0f95-4502-9e79-a22207b92338"
      },
      "execution_count": 6,
      "outputs": [
        {
          "output_type": "stream",
          "name": "stdout",
          "text": [
            "Drive already mounted at /content/drive; to attempt to forcibly remount, call drive.mount(\"/content/drive\", force_remount=True).\n"
          ]
        }
      ]
    },
    {
      "cell_type": "markdown",
      "source": [
        "## Base Model(Gemma 7B-IT) Evaluation"
      ],
      "metadata": {
        "id": "ZuK0-0vba5hI"
      }
    },
    {
      "cell_type": "code",
      "source": [
        "hf_token = userdata.get('HUGGIN_FACE_TOKEN')\n",
        "login(hf_token)"
      ],
      "metadata": {
        "id": "0bMsXKdH0Yq-"
      },
      "execution_count": 7,
      "outputs": []
    },
    {
      "cell_type": "code",
      "source": [
        "model_id = \"google/gemma-7b-it\"\n",
        "\n",
        "tokenizer_gemma = AutoTokenizer.from_pretrained(model_id)\n",
        "\n",
        "model_gemma = AutoModelForCausalLM.from_pretrained(\n",
        "    model_id,\n",
        "    torch_dtype=torch.bfloat16,\n",
        "    device_map=\"auto\",\n",
        "    load_in_4bit=True\n",
        ")\n"
      ],
      "metadata": {
        "id": "sl9-SDBz33aB"
      },
      "execution_count": null,
      "outputs": []
    },
    {
      "cell_type": "code",
      "source": [
        "def generate_response(model, prompt_text):\n",
        "  input_ids = tokenizer_gemma(prompt_text, return_tensors=\"pt\").to(model.device)\n",
        "\n",
        "  outputs = model.generate(\n",
        "        **input_ids,\n",
        "        max_new_tokens=40,\n",
        "    )\n",
        "\n",
        "  response = tokenizer_gemma.decode(outputs[0], skip_special_tokens=True)\n",
        "  cleaned_response = response\n",
        "  if cleaned_response.startswith(prompt_text):\n",
        "      cleaned_response = cleaned_response[len(prompt_text):].strip()\n",
        "\n",
        "  return cleaned_response"
      ],
      "metadata": {
        "id": "P0_xYz7C7dyp"
      },
      "execution_count": 34,
      "outputs": []
    },
    {
      "cell_type": "code",
      "source": [
        "prompt_1 = \"\"\"\n",
        "Você está jogando Uno.\n",
        "A carta no descarte é: Vermelho 7\n",
        "Minha mão tem as seguintes cartas: [Azul 3, Vermelho 8, Verde 5, +2 Amarelo].\n",
        "Qual carta você pode jogar?\n",
        "\"\"\""
      ],
      "metadata": {
        "id": "rE0kdGr08JWp"
      },
      "execution_count": 15,
      "outputs": []
    },
    {
      "cell_type": "code",
      "source": [
        "prompt_2 = \"\"\"\n",
        "Você está jogando Uno.\n",
        "A carta no descarte é: Vermelho +2.\n",
        "Sua mão tem as seguintes cartas: [Verde 0, Azul 1, Bloquear Vermelho].\n",
        "Qual carta você pode jogar?\n",
        "\"\"\""
      ],
      "metadata": {
        "id": "EU7o2sJk9_lW"
      },
      "execution_count": 16,
      "outputs": []
    },
    {
      "cell_type": "code",
      "source": [
        "prompt_3 = \"\"\"\n",
        "Você está jogando Uno.\n",
        "A carta no descarte é: Azul 4.\n",
        "Sua mão tem as seguintes cartas: [Verde 0, Azul 1, Bloquear Vermelho].\n",
        "Qual carta você pode jogar?\n",
        "\"\"\""
      ],
      "metadata": {
        "id": "DQMD7gRp_SyJ"
      },
      "execution_count": 17,
      "outputs": []
    },
    {
      "cell_type": "code",
      "source": [
        "prompt_4 = \"\"\"\n",
        "Você está jogando Uno.\n",
        "Carta no descarte: Azul 8,\n",
        "Cartas na mão: [Coringa,Vermelho 8,Amarelo +2,Verde 7,Vermelho 3,Vermelho 9,Amarelo 4].\n",
        "Qual carta você pode jogar?\n",
        "\"\"\""
      ],
      "metadata": {
        "id": "TNy1-Jurl7sR"
      },
      "execution_count": 18,
      "outputs": []
    },
    {
      "cell_type": "code",
      "source": [
        "prompt_5 = \"\"\"\n",
        "Você está jogando Uno.\n",
        "Carta no descarte: Vermelho 2,\n",
        "Cartas na mão: [Azul 3,Vermelho 4,Amarelo 4,Amarelo Inverter,Verde +2,Azul 6,Vermelho 3].\n",
        "Qual carta você pode jogar?\n",
        "\"\"\""
      ],
      "metadata": {
        "id": "xxJGM3z6njOm"
      },
      "execution_count": 19,
      "outputs": []
    },
    {
      "cell_type": "code",
      "source": [
        "response_1 = generate_response(model_gemma, prompt_1 )\n",
        "response_2 = generate_response(model_gemma, prompt_2 )\n",
        "response_3 = generate_response(model_gemma, prompt_3 )\n",
        "response_4 = generate_response(model_gemma, prompt_4 )\n",
        "response_5 = generate_response(model_gemma, prompt_5 )"
      ],
      "metadata": {
        "id": "Wq7ZLiZ499az"
      },
      "execution_count": 50,
      "outputs": []
    },
    {
      "cell_type": "code",
      "source": [
        "prompts = [prompt_1, prompt_2, prompt_3, prompt_4, prompt_5]\n",
        "responses = [response_1, response_2, response_3, response_4, response_5]"
      ],
      "metadata": {
        "id": "_zOZie0oey5l"
      },
      "execution_count": 51,
      "outputs": []
    },
    {
      "cell_type": "code",
      "source": [
        "# Model examples\n",
        "\n",
        "for prompt, response in zip(prompts, responses):\n",
        "  print(f\"**Prompt:**\\n{prompt}\\n\")\n",
        "  print(f\"**Answer:**\\n{response}\\n\")\n",
        "  print(\"-\" * 50)\n"
      ],
      "metadata": {
        "colab": {
          "base_uri": "https://localhost:8080/"
        },
        "id": "n2MYit9-PmUl",
        "outputId": "aa5d45e3-795a-462c-f2d7-1c1507c1ccdc"
      },
      "execution_count": 52,
      "outputs": [
        {
          "output_type": "stream",
          "name": "stdout",
          "text": [
            "**Prompt:**\n",
            "\n",
            "Você está jogando Uno.\n",
            "A carta no descarte é: Vermelho 7\n",
            "Minha mão tem as seguintes cartas: [Azul 3, Vermelho 8, Verde 5, +2 Amarelo].\n",
            "Qual carta você pode jogar?\n",
            "\n",
            "\n",
            "**Answer:**\n",
            "**Resposta:** A carta que você pode jogar é o Verde 5.\n",
            "\n",
            "--------------------------------------------------\n",
            "**Prompt:**\n",
            "\n",
            "Você está jogando Uno.\n",
            "A carta no descarte é: Vermelho +2.\n",
            "Sua mão tem as seguintes cartas: [Verde 0, Azul 1, Bloquear Vermelho].\n",
            "Qual carta você pode jogar?\n",
            "\n",
            "\n",
            "**Answer:**\n",
            "A. Verde 0\n",
            "B. Azul 1\n",
            "C. Vermelho +2\n",
            "\n",
            "A resposta para a questão é a carta Verde 0.\n",
            "\n",
            "A carta Vermelho +2 foi descar\n",
            "\n",
            "--------------------------------------------------\n",
            "**Prompt:**\n",
            "\n",
            "Você está jogando Uno.\n",
            "A carta no descarte é: Azul 4.\n",
            "Sua mão tem as seguintes cartas: [Verde 0, Azul 1, Bloquear Vermelho].\n",
            "Qual carta você pode jogar?\n",
            "\n",
            "\n",
            "**Answer:**\n",
            "**Resposta:** A carta que você pode jogar é a Azul 1.\n",
            "\n",
            "--------------------------------------------------\n",
            "**Prompt:**\n",
            "\n",
            "Você está jogando Uno.\n",
            "Carta no descarte: Azul 8,\n",
            "Cartas na mão: [Coringa,Vermelho 8,Amarelo +2,Verde 7,Vermelho 3,Vermelho 9,Amarelo 4].\n",
            "Qual carta você pode jogar?\n",
            "\n",
            "\n",
            "**Answer:**\n",
            "**Resposta:** O carta que você pode jogar é o Verde 7.\n",
            "\n",
            "--------------------------------------------------\n",
            "**Prompt:**\n",
            "\n",
            "Você está jogando Uno.\n",
            "Carta no descarte: Vermelho 2,\n",
            "Cartas na mão: [Azul 3,Vermelho 4,Amarelo 4,Amarelo Inverter,Verde +2,Azul 6,Vermelho 3].\n",
            "Qual carta você pode jogar?\n",
            "\n",
            "\n",
            "**Answer:**\n",
            "**Resposta:** Amarelo 4.\n",
            "\n",
            "O objetivo do jogo Uno é ser o primeiro a esgotar todas as cartas de seu caribbean. No momento em que o usuário jogou a carta\n",
            "\n",
            "--------------------------------------------------\n"
          ]
        }
      ]
    },
    {
      "cell_type": "markdown",
      "source": [
        "## Dataset Creation\n",
        "\n"
      ],
      "metadata": {
        "id": "yzFxc3qja90n"
      }
    },
    {
      "cell_type": "code",
      "source": [
        "!pip install -q -U google-generativeai"
      ],
      "metadata": {
        "id": "iLQeTr2ea_U2"
      },
      "execution_count": null,
      "outputs": []
    },
    {
      "cell_type": "code",
      "source": [
        "api_key = userdata.get('GEMINI_API_KEY')\n",
        "genai.configure(api_key=api_key)"
      ],
      "metadata": {
        "id": "E3bvTpLhc4tH"
      },
      "execution_count": null,
      "outputs": []
    },
    {
      "cell_type": "code",
      "source": [
        "uno_rules = \"\"\"\n",
        "**Regras Oficiais do Jogo UNO:**\n",
        "1.  **Objetivo:** Livrar-se de todas as cartas.\n",
        "2.  **Jogada Válida:** Uma carta só pode ser jogada se combinar com a cor, o número ou o símbolo da carta que está no topo do monte de descarte.\n",
        "3.  **Carta de Número (0-9):** Combina cor ou número.\n",
        "4.  **Carta '+2':** Combina cor. O próximo jogador deve comprar duas cartas e perde a vez.\n",
        "5.  **Carta 'Bloquear' (Skip):** Combina cor. O próximo jogador perde a vez.\n",
        "6.  **Carta 'Inverter' (Reverse):** Combina cor. Inverte o sentido do jogo.\n",
        "7.  **Carta 'Trocar Cor' (Wild Card):** Pode ser jogada a qualquer momento, independentemente da carta no descarte. O jogador que a joga escolhe a próxima cor (vermelho, azul, verde ou amarelo).\n",
        "8.  **Carta '+4' (Wild Draw Four):** Pode ser jogada a qualquer momento, *mas apenas se o jogador não tiver nenhuma carta da cor atual no descarte* (exceto Coringas normais). O jogador que a joga escolhe a próxima cor. O próximo jogador deve comprar quatro cartas e perde a vez.\n",
        "9.  **Comprar Cartas:** Se um jogador não tiver uma carta válida para jogar, ele deve comprar uma carta do baralho de compra. Se a carta comprada for jogável, ele pode jogá-la imediatamente. Caso contrário, a vez passa para o próximo jogador.\n",
        "10. **Aviso 'UNO!':** Quando um jogador tem apenas uma carta na mão, ele deve dizer \"UNO!\". Se ele não disser e outro jogador o pegar antes da vez do próximo jogador, ele deve comprar duas cartas.\n",
        "\"\"\""
      ],
      "metadata": {
        "id": "HGZSPjtIdJbI"
      },
      "execution_count": null,
      "outputs": []
    },
    {
      "cell_type": "code",
      "source": [
        "gemini_table_generation_prompt = f\"\"\"\n",
        "Você é um especialista em jogos de cartas, especificamente em UNO. Sua tarefa é criar uma tabela contendo situações de jogo de UNO (entradas) e as jogadas/resultados corretos para cada situação (saídas), baseando-se estritamente nas regras oficiais do jogo que serão fornecidas.\n",
        "\n",
        "**Objetivo:** Gerar um conjunto de dados para treinar uma IA a jogar UNO, cobrindo a maior variedade possível de situações e regras.\n",
        "\n",
        "---\n",
        "\n",
        "{uno_rules}\n",
        "\n",
        "---\n",
        "\n",
        "**Instruções Detalhadas para a Geração da Tabela:**\n",
        "\n",
        "1.  **Formato da Tabela:** Gere uma tabela com **10 exemplos**. Cada exemplo deve ter 2 colunas:\n",
        "    * **Cenário (prompt):** Uma descrição concisa da situação do jogo. Siga este formato *exato*: `Carta no descarte: [COR/TIPO], Cartas na mão: [[COR/TIPO], [COR/TIPO], ...]. Qual(is) carta(s) da mão você pode jogar ou o que deve fazer?`\n",
        "    * **Resposta (completion):** A jogada ou o resultado correto para o cenário, **extremamente conciso**. Se houver uma breve justificativa de uma frase (ex: \"Combina cor/número\", \"Causa compra de cartas\"), inclua-a após a jogada/resultado. **Não inclua qualquer frase introdutória.**\n",
        "\n",
        "2.  **Variedade de Cenários:** Garanta que os exemplos abordem uma AMPLA VARIEDADE de situações e testem **diferentes regras** listadas acima.\n",
        "\n",
        "3.  **Formato da Tabela de Saída (Exemplo):**\n",
        "    ```\n",
        "    Cenário (prompt) | Resposta (completion)\n",
        "    --- | ---\n",
        "    Carta no descarte: Vermelho 7, Cartas na mão: [Azul 3, Vermelho 8, Verde 5, +2 Amarelo]. Qual(is) carta(s) da mão você pode jogar ou o que deve fazer? | **Vermelho 8**. Combina com a cor Vermelha.\n",
        "    Carta no descarte: Azul +2, Cartas na mão: [Verde 0, Azul 1, Bloquear Vermelho, Coringa]. O que acontece com você nesta rodada? | Você deve **comprar duas cartas e perder a sua vez**.\n",
        "    ```\n",
        "    Gere a tabela completa agora com 250 exemplos, seguindo todas as instruções.\n",
        "\"\"\""
      ],
      "metadata": {
        "id": "hNRMLxREdTAP"
      },
      "execution_count": null,
      "outputs": []
    },
    {
      "cell_type": "code",
      "source": [
        "model_gemini_pro = genai.GenerativeModel('gemini-1.5-flash')"
      ],
      "metadata": {
        "id": "NNgq6Dsdeweh"
      },
      "execution_count": null,
      "outputs": []
    },
    {
      "cell_type": "code",
      "source": [
        "colors = ['Vermelho', 'Azul', 'Verde', 'Amarelo']\n",
        "numbers = [str(i) for i in range(10)]\n",
        "action_cards = ['+2', 'Bloquear', 'Inverter']\n",
        "wild_cards = ['Coringa', '+4']\n",
        "\n"
      ],
      "metadata": {
        "id": "FndcuVVzet_Y"
      },
      "execution_count": null,
      "outputs": []
    },
    {
      "cell_type": "code",
      "source": [
        "full_uno_deck = []\n",
        "for color in colors:\n",
        "    full_uno_deck.append(f\"{color} 0\") # One 0 for each color\n",
        "    for num in numbers[1:]: # Two of each number[1 to 9] for each color\n",
        "        full_uno_deck.append(f\"{color} {num}\")\n",
        "        full_uno_deck.append(f\"{color} {num}\")\n",
        "\n",
        "# Action Cards (Two of each color for +2, Block, Reverse)\n",
        "for color in colors:\n",
        "    for action in action_cards:\n",
        "        full_uno_deck.append(f\"{color} {action}\")\n",
        "        full_uno_deck.append(f\"{color} {action}\")\n",
        "\n",
        "# Wild cards (Four of each color)\n",
        "for _ in range(4):\n",
        "  for wild_card in wild_cards:\n",
        "    full_uno_deck.append(f\"{wild_card}\")\n"
      ],
      "metadata": {
        "id": "jBK3ZNGViWwp"
      },
      "execution_count": null,
      "outputs": []
    },
    {
      "cell_type": "code",
      "source": [
        "def generate_random_hand_and_discard(deck):\n",
        "  remaining_deck = list(deck)\n",
        "  num_cards = random.randint(3,7)\n",
        "\n",
        "  hand = random.sample(deck, num_cards)\n",
        "\n",
        "  for card in hand:\n",
        "    remaining_deck.remove(card)\n",
        "\n",
        "  discard_card = random.choice(remaining_deck)\n",
        "  return hand, discard_card"
      ],
      "metadata": {
        "id": "KIqN-Xw5jJKO"
      },
      "execution_count": null,
      "outputs": []
    },
    {
      "cell_type": "code",
      "source": [
        "def get_gemini_completion_for_prompt(model, prompt_input_text):\n",
        "  full_gemini_prompt =f\"\"\"\n",
        "    Você é um mestre de Uno e deve analisar um cenário de jogo e determinar a jogada correta ou o resultado, estritamente de acordo com as regras padrão do jogo Uno fornecidas abaixo. Mantenha a resposta com um MÁXIMO de 20-30 palavras, sendo o mais direto possível.\n",
        "\n",
        "    {uno_rules}\n",
        "\n",
        "    **Cenário de Jogo:**\n",
        "    {prompt_input_text}\n",
        "\n",
        "    **Responda de forma extremamente concisa, indicando apenas a jogada ou o resultado correto. Se houver uma breve justificativa de uma frase, inclua-a após a jogada/resultado. Não inclua qualquer frase introdutória como 'Jogada Correta:' ou 'Resultado:'**\n",
        "    \"\"\"\n",
        "  response_gen = model.generate_content(full_gemini_prompt)\n",
        "\n",
        "  return response_gen.text.strip()"
      ],
      "metadata": {
        "id": "YBuUbkEMtfRN"
      },
      "execution_count": null,
      "outputs": []
    },
    {
      "cell_type": "code",
      "source": [
        "num_samples = 450\n",
        "data_hands = []\n",
        "data_discards = []\n",
        "for _ in range(num_samples):\n",
        "  hand, discard = generate_random_hand_and_discard(full_uno_deck)\n",
        "  data_hands.append(hand)\n",
        "  data_discards.append(discard)"
      ],
      "metadata": {
        "id": "ib5q6wV0nfpc"
      },
      "execution_count": null,
      "outputs": []
    },
    {
      "cell_type": "code",
      "source": [
        "synthetic_dataset = []\n"
      ],
      "metadata": {
        "id": "M7vf16pVwht0"
      },
      "execution_count": null,
      "outputs": []
    },
    {
      "cell_type": "code",
      "source": [
        "for i in range(num_samples):\n",
        "  current_hand = data_hands[i]\n",
        "  current_discard = data_discards[i]\n",
        "\n",
        "  currente_hand_str = \"[\" + \",\".join(current_hand)+\"]\"\n",
        "\n",
        "  question = random.choice([\"Qual carta você pode jogar?\", \"O que você pode fazer?\", \"O que acontece com você nesta rodada?\",])\n",
        "\n",
        "  prompt_input = f\"Carta no descarte: {current_discard}, Cartas na mão: {currente_hand_str}. {question}\"\n",
        "\n",
        "  completion_from_gemini = get_gemini_completion_for_prompt(model_gemini_pro, prompt_input)\n",
        "  synthetic_dataset.append({\n",
        "        \"prompt\": prompt_input,\n",
        "        \"completion\": completion_from_gemini\n",
        "    })\n",
        "  time.sleep(2)"
      ],
      "metadata": {
        "id": "Xb8HZVLMqZER"
      },
      "execution_count": null,
      "outputs": []
    },
    {
      "cell_type": "code",
      "source": [
        "df = pd.DataFrame(synthetic_dataset)"
      ],
      "metadata": {
        "id": "0mCuCko9wZw_"
      },
      "execution_count": null,
      "outputs": []
    },
    {
      "cell_type": "code",
      "source": [
        "df"
      ],
      "metadata": {
        "id": "1Cp8I_jgFrA4",
        "outputId": "613977b3-96a0-4375-88db-6cf2049a1bc1",
        "colab": {
          "base_uri": "https://localhost:8080/",
          "height": 423
        }
      },
      "execution_count": null,
      "outputs": [
        {
          "output_type": "execute_result",
          "data": {
            "text/plain": [
              "                                                prompt  \\\n",
              "0    Carta no descarte: Amarelo 7, Cartas na mão: [...   \n",
              "1    Carta no descarte: Amarelo 7, Cartas na mão: [...   \n",
              "2    Carta no descarte: Amarelo 7, Cartas na mão: [...   \n",
              "3    Carta no descarte: Azul 8, Cartas na mão: [Cor...   \n",
              "4    Carta no descarte: Verde +2, Cartas na mão: [A...   \n",
              "..                                                 ...   \n",
              "502  Carta no descarte: Verde 2, Cartas na mão: [Ve...   \n",
              "503  Carta no descarte: Amarelo Inverter, Cartas na...   \n",
              "504  Carta no descarte: Verde Bloquear, Cartas na m...   \n",
              "505  Carta no descarte: Vermelho 2, Cartas na mão: ...   \n",
              "506  Carta no descarte: Amarelo 8, Cartas na mão: [...   \n",
              "\n",
              "                                            completion  \n",
              "0                                   Jogue o Amarelo 7.  \n",
              "1          Amarelo 7.  Combina com a carta descartada.  \n",
              "2    Amarelo 7.  Combina com a cor e o número da ca...  \n",
              "3     Vermelho 8.  Combina com o número 8 no descarte.  \n",
              "4                                     Jogue o Verde 1.  \n",
              "..                                                 ...  \n",
              "502  Jogar o Vermelho 2.  Combina com o número da c...  \n",
              "503  Comprar carta.  Não há cartas na mão que combi...  \n",
              "504                                Jogue o Amarelo +2.  \n",
              "505    Vermelho 4. Combina com o número 2 no descarte.  \n",
              "506  Jogue o Amarelo 7.  Combina com a cor do desca...  \n",
              "\n",
              "[507 rows x 2 columns]"
            ],
            "text/html": [
              "\n",
              "  <div id=\"df-4e7730c0-cf54-4fc9-827b-1f6803715562\" class=\"colab-df-container\">\n",
              "    <div>\n",
              "<style scoped>\n",
              "    .dataframe tbody tr th:only-of-type {\n",
              "        vertical-align: middle;\n",
              "    }\n",
              "\n",
              "    .dataframe tbody tr th {\n",
              "        vertical-align: top;\n",
              "    }\n",
              "\n",
              "    .dataframe thead th {\n",
              "        text-align: right;\n",
              "    }\n",
              "</style>\n",
              "<table border=\"1\" class=\"dataframe\">\n",
              "  <thead>\n",
              "    <tr style=\"text-align: right;\">\n",
              "      <th></th>\n",
              "      <th>prompt</th>\n",
              "      <th>completion</th>\n",
              "    </tr>\n",
              "  </thead>\n",
              "  <tbody>\n",
              "    <tr>\n",
              "      <th>0</th>\n",
              "      <td>Carta no descarte: Amarelo 7, Cartas na mão: [...</td>\n",
              "      <td>Jogue o Amarelo 7.</td>\n",
              "    </tr>\n",
              "    <tr>\n",
              "      <th>1</th>\n",
              "      <td>Carta no descarte: Amarelo 7, Cartas na mão: [...</td>\n",
              "      <td>Amarelo 7.  Combina com a carta descartada.</td>\n",
              "    </tr>\n",
              "    <tr>\n",
              "      <th>2</th>\n",
              "      <td>Carta no descarte: Amarelo 7, Cartas na mão: [...</td>\n",
              "      <td>Amarelo 7.  Combina com a cor e o número da ca...</td>\n",
              "    </tr>\n",
              "    <tr>\n",
              "      <th>3</th>\n",
              "      <td>Carta no descarte: Azul 8, Cartas na mão: [Cor...</td>\n",
              "      <td>Vermelho 8.  Combina com o número 8 no descarte.</td>\n",
              "    </tr>\n",
              "    <tr>\n",
              "      <th>4</th>\n",
              "      <td>Carta no descarte: Verde +2, Cartas na mão: [A...</td>\n",
              "      <td>Jogue o Verde 1.</td>\n",
              "    </tr>\n",
              "    <tr>\n",
              "      <th>...</th>\n",
              "      <td>...</td>\n",
              "      <td>...</td>\n",
              "    </tr>\n",
              "    <tr>\n",
              "      <th>502</th>\n",
              "      <td>Carta no descarte: Verde 2, Cartas na mão: [Ve...</td>\n",
              "      <td>Jogar o Vermelho 2.  Combina com o número da c...</td>\n",
              "    </tr>\n",
              "    <tr>\n",
              "      <th>503</th>\n",
              "      <td>Carta no descarte: Amarelo Inverter, Cartas na...</td>\n",
              "      <td>Comprar carta.  Não há cartas na mão que combi...</td>\n",
              "    </tr>\n",
              "    <tr>\n",
              "      <th>504</th>\n",
              "      <td>Carta no descarte: Verde Bloquear, Cartas na m...</td>\n",
              "      <td>Jogue o Amarelo +2.</td>\n",
              "    </tr>\n",
              "    <tr>\n",
              "      <th>505</th>\n",
              "      <td>Carta no descarte: Vermelho 2, Cartas na mão: ...</td>\n",
              "      <td>Vermelho 4. Combina com o número 2 no descarte.</td>\n",
              "    </tr>\n",
              "    <tr>\n",
              "      <th>506</th>\n",
              "      <td>Carta no descarte: Amarelo 8, Cartas na mão: [...</td>\n",
              "      <td>Jogue o Amarelo 7.  Combina com a cor do desca...</td>\n",
              "    </tr>\n",
              "  </tbody>\n",
              "</table>\n",
              "<p>507 rows × 2 columns</p>\n",
              "</div>\n",
              "    <div class=\"colab-df-buttons\">\n",
              "\n",
              "  <div class=\"colab-df-container\">\n",
              "    <button class=\"colab-df-convert\" onclick=\"convertToInteractive('df-4e7730c0-cf54-4fc9-827b-1f6803715562')\"\n",
              "            title=\"Convert this dataframe to an interactive table.\"\n",
              "            style=\"display:none;\">\n",
              "\n",
              "  <svg xmlns=\"http://www.w3.org/2000/svg\" height=\"24px\" viewBox=\"0 -960 960 960\">\n",
              "    <path d=\"M120-120v-720h720v720H120Zm60-500h600v-160H180v160Zm220 220h160v-160H400v160Zm0 220h160v-160H400v160ZM180-400h160v-160H180v160Zm440 0h160v-160H620v160ZM180-180h160v-160H180v160Zm440 0h160v-160H620v160Z\"/>\n",
              "  </svg>\n",
              "    </button>\n",
              "\n",
              "  <style>\n",
              "    .colab-df-container {\n",
              "      display:flex;\n",
              "      gap: 12px;\n",
              "    }\n",
              "\n",
              "    .colab-df-convert {\n",
              "      background-color: #E8F0FE;\n",
              "      border: none;\n",
              "      border-radius: 50%;\n",
              "      cursor: pointer;\n",
              "      display: none;\n",
              "      fill: #1967D2;\n",
              "      height: 32px;\n",
              "      padding: 0 0 0 0;\n",
              "      width: 32px;\n",
              "    }\n",
              "\n",
              "    .colab-df-convert:hover {\n",
              "      background-color: #E2EBFA;\n",
              "      box-shadow: 0px 1px 2px rgba(60, 64, 67, 0.3), 0px 1px 3px 1px rgba(60, 64, 67, 0.15);\n",
              "      fill: #174EA6;\n",
              "    }\n",
              "\n",
              "    .colab-df-buttons div {\n",
              "      margin-bottom: 4px;\n",
              "    }\n",
              "\n",
              "    [theme=dark] .colab-df-convert {\n",
              "      background-color: #3B4455;\n",
              "      fill: #D2E3FC;\n",
              "    }\n",
              "\n",
              "    [theme=dark] .colab-df-convert:hover {\n",
              "      background-color: #434B5C;\n",
              "      box-shadow: 0px 1px 3px 1px rgba(0, 0, 0, 0.15);\n",
              "      filter: drop-shadow(0px 1px 2px rgba(0, 0, 0, 0.3));\n",
              "      fill: #FFFFFF;\n",
              "    }\n",
              "  </style>\n",
              "\n",
              "    <script>\n",
              "      const buttonEl =\n",
              "        document.querySelector('#df-4e7730c0-cf54-4fc9-827b-1f6803715562 button.colab-df-convert');\n",
              "      buttonEl.style.display =\n",
              "        google.colab.kernel.accessAllowed ? 'block' : 'none';\n",
              "\n",
              "      async function convertToInteractive(key) {\n",
              "        const element = document.querySelector('#df-4e7730c0-cf54-4fc9-827b-1f6803715562');\n",
              "        const dataTable =\n",
              "          await google.colab.kernel.invokeFunction('convertToInteractive',\n",
              "                                                    [key], {});\n",
              "        if (!dataTable) return;\n",
              "\n",
              "        const docLinkHtml = 'Like what you see? Visit the ' +\n",
              "          '<a target=\"_blank\" href=https://colab.research.google.com/notebooks/data_table.ipynb>data table notebook</a>'\n",
              "          + ' to learn more about interactive tables.';\n",
              "        element.innerHTML = '';\n",
              "        dataTable['output_type'] = 'display_data';\n",
              "        await google.colab.output.renderOutput(dataTable, element);\n",
              "        const docLink = document.createElement('div');\n",
              "        docLink.innerHTML = docLinkHtml;\n",
              "        element.appendChild(docLink);\n",
              "      }\n",
              "    </script>\n",
              "  </div>\n",
              "\n",
              "\n",
              "    <div id=\"df-a7fc02da-ee1a-4f3e-baf0-42d1929b6b10\">\n",
              "      <button class=\"colab-df-quickchart\" onclick=\"quickchart('df-a7fc02da-ee1a-4f3e-baf0-42d1929b6b10')\"\n",
              "                title=\"Suggest charts\"\n",
              "                style=\"display:none;\">\n",
              "\n",
              "<svg xmlns=\"http://www.w3.org/2000/svg\" height=\"24px\"viewBox=\"0 0 24 24\"\n",
              "     width=\"24px\">\n",
              "    <g>\n",
              "        <path d=\"M19 3H5c-1.1 0-2 .9-2 2v14c0 1.1.9 2 2 2h14c1.1 0 2-.9 2-2V5c0-1.1-.9-2-2-2zM9 17H7v-7h2v7zm4 0h-2V7h2v10zm4 0h-2v-4h2v4z\"/>\n",
              "    </g>\n",
              "</svg>\n",
              "      </button>\n",
              "\n",
              "<style>\n",
              "  .colab-df-quickchart {\n",
              "      --bg-color: #E8F0FE;\n",
              "      --fill-color: #1967D2;\n",
              "      --hover-bg-color: #E2EBFA;\n",
              "      --hover-fill-color: #174EA6;\n",
              "      --disabled-fill-color: #AAA;\n",
              "      --disabled-bg-color: #DDD;\n",
              "  }\n",
              "\n",
              "  [theme=dark] .colab-df-quickchart {\n",
              "      --bg-color: #3B4455;\n",
              "      --fill-color: #D2E3FC;\n",
              "      --hover-bg-color: #434B5C;\n",
              "      --hover-fill-color: #FFFFFF;\n",
              "      --disabled-bg-color: #3B4455;\n",
              "      --disabled-fill-color: #666;\n",
              "  }\n",
              "\n",
              "  .colab-df-quickchart {\n",
              "    background-color: var(--bg-color);\n",
              "    border: none;\n",
              "    border-radius: 50%;\n",
              "    cursor: pointer;\n",
              "    display: none;\n",
              "    fill: var(--fill-color);\n",
              "    height: 32px;\n",
              "    padding: 0;\n",
              "    width: 32px;\n",
              "  }\n",
              "\n",
              "  .colab-df-quickchart:hover {\n",
              "    background-color: var(--hover-bg-color);\n",
              "    box-shadow: 0 1px 2px rgba(60, 64, 67, 0.3), 0 1px 3px 1px rgba(60, 64, 67, 0.15);\n",
              "    fill: var(--button-hover-fill-color);\n",
              "  }\n",
              "\n",
              "  .colab-df-quickchart-complete:disabled,\n",
              "  .colab-df-quickchart-complete:disabled:hover {\n",
              "    background-color: var(--disabled-bg-color);\n",
              "    fill: var(--disabled-fill-color);\n",
              "    box-shadow: none;\n",
              "  }\n",
              "\n",
              "  .colab-df-spinner {\n",
              "    border: 2px solid var(--fill-color);\n",
              "    border-color: transparent;\n",
              "    border-bottom-color: var(--fill-color);\n",
              "    animation:\n",
              "      spin 1s steps(1) infinite;\n",
              "  }\n",
              "\n",
              "  @keyframes spin {\n",
              "    0% {\n",
              "      border-color: transparent;\n",
              "      border-bottom-color: var(--fill-color);\n",
              "      border-left-color: var(--fill-color);\n",
              "    }\n",
              "    20% {\n",
              "      border-color: transparent;\n",
              "      border-left-color: var(--fill-color);\n",
              "      border-top-color: var(--fill-color);\n",
              "    }\n",
              "    30% {\n",
              "      border-color: transparent;\n",
              "      border-left-color: var(--fill-color);\n",
              "      border-top-color: var(--fill-color);\n",
              "      border-right-color: var(--fill-color);\n",
              "    }\n",
              "    40% {\n",
              "      border-color: transparent;\n",
              "      border-right-color: var(--fill-color);\n",
              "      border-top-color: var(--fill-color);\n",
              "    }\n",
              "    60% {\n",
              "      border-color: transparent;\n",
              "      border-right-color: var(--fill-color);\n",
              "    }\n",
              "    80% {\n",
              "      border-color: transparent;\n",
              "      border-right-color: var(--fill-color);\n",
              "      border-bottom-color: var(--fill-color);\n",
              "    }\n",
              "    90% {\n",
              "      border-color: transparent;\n",
              "      border-bottom-color: var(--fill-color);\n",
              "    }\n",
              "  }\n",
              "</style>\n",
              "\n",
              "      <script>\n",
              "        async function quickchart(key) {\n",
              "          const quickchartButtonEl =\n",
              "            document.querySelector('#' + key + ' button');\n",
              "          quickchartButtonEl.disabled = true;  // To prevent multiple clicks.\n",
              "          quickchartButtonEl.classList.add('colab-df-spinner');\n",
              "          try {\n",
              "            const charts = await google.colab.kernel.invokeFunction(\n",
              "                'suggestCharts', [key], {});\n",
              "          } catch (error) {\n",
              "            console.error('Error during call to suggestCharts:', error);\n",
              "          }\n",
              "          quickchartButtonEl.classList.remove('colab-df-spinner');\n",
              "          quickchartButtonEl.classList.add('colab-df-quickchart-complete');\n",
              "        }\n",
              "        (() => {\n",
              "          let quickchartButtonEl =\n",
              "            document.querySelector('#df-a7fc02da-ee1a-4f3e-baf0-42d1929b6b10 button');\n",
              "          quickchartButtonEl.style.display =\n",
              "            google.colab.kernel.accessAllowed ? 'block' : 'none';\n",
              "        })();\n",
              "      </script>\n",
              "    </div>\n",
              "\n",
              "  <div id=\"id_3de1bea7-c527-4c92-9e04-92f0b9ceee7d\">\n",
              "    <style>\n",
              "      .colab-df-generate {\n",
              "        background-color: #E8F0FE;\n",
              "        border: none;\n",
              "        border-radius: 50%;\n",
              "        cursor: pointer;\n",
              "        display: none;\n",
              "        fill: #1967D2;\n",
              "        height: 32px;\n",
              "        padding: 0 0 0 0;\n",
              "        width: 32px;\n",
              "      }\n",
              "\n",
              "      .colab-df-generate:hover {\n",
              "        background-color: #E2EBFA;\n",
              "        box-shadow: 0px 1px 2px rgba(60, 64, 67, 0.3), 0px 1px 3px 1px rgba(60, 64, 67, 0.15);\n",
              "        fill: #174EA6;\n",
              "      }\n",
              "\n",
              "      [theme=dark] .colab-df-generate {\n",
              "        background-color: #3B4455;\n",
              "        fill: #D2E3FC;\n",
              "      }\n",
              "\n",
              "      [theme=dark] .colab-df-generate:hover {\n",
              "        background-color: #434B5C;\n",
              "        box-shadow: 0px 1px 3px 1px rgba(0, 0, 0, 0.15);\n",
              "        filter: drop-shadow(0px 1px 2px rgba(0, 0, 0, 0.3));\n",
              "        fill: #FFFFFF;\n",
              "      }\n",
              "    </style>\n",
              "    <button class=\"colab-df-generate\" onclick=\"generateWithVariable('df')\"\n",
              "            title=\"Generate code using this dataframe.\"\n",
              "            style=\"display:none;\">\n",
              "\n",
              "  <svg xmlns=\"http://www.w3.org/2000/svg\" height=\"24px\"viewBox=\"0 0 24 24\"\n",
              "       width=\"24px\">\n",
              "    <path d=\"M7,19H8.4L18.45,9,17,7.55,7,17.6ZM5,21V16.75L18.45,3.32a2,2,0,0,1,2.83,0l1.4,1.43a1.91,1.91,0,0,1,.58,1.4,1.91,1.91,0,0,1-.58,1.4L9.25,21ZM18.45,9,17,7.55Zm-12,3A5.31,5.31,0,0,0,4.9,8.1,5.31,5.31,0,0,0,1,6.5,5.31,5.31,0,0,0,4.9,4.9,5.31,5.31,0,0,0,6.5,1,5.31,5.31,0,0,0,8.1,4.9,5.31,5.31,0,0,0,12,6.5,5.46,5.46,0,0,0,6.5,12Z\"/>\n",
              "  </svg>\n",
              "    </button>\n",
              "    <script>\n",
              "      (() => {\n",
              "      const buttonEl =\n",
              "        document.querySelector('#id_3de1bea7-c527-4c92-9e04-92f0b9ceee7d button.colab-df-generate');\n",
              "      buttonEl.style.display =\n",
              "        google.colab.kernel.accessAllowed ? 'block' : 'none';\n",
              "\n",
              "      buttonEl.onclick = () => {\n",
              "        google.colab.notebook.generateWithVariable('df');\n",
              "      }\n",
              "      })();\n",
              "    </script>\n",
              "  </div>\n",
              "\n",
              "    </div>\n",
              "  </div>\n"
            ],
            "application/vnd.google.colaboratory.intrinsic+json": {
              "type": "dataframe",
              "variable_name": "df",
              "summary": "{\n  \"name\": \"df\",\n  \"rows\": 507,\n  \"fields\": [\n    {\n      \"column\": \"prompt\",\n      \"properties\": {\n        \"dtype\": \"string\",\n        \"num_unique_values\": 502,\n        \"samples\": [\n          \"Carta no descarte: Verde 9, Cartas na m\\u00e3o: [Amarelo 9,Verde 5,Vermelho Bloquear]. Qual carta voc\\u00ea pode jogar?\",\n          \"Carta no descarte: Amarelo 5, Cartas na m\\u00e3o: [Amarelo 9,Verde 8,Amarelo 4,Amarelo +2]. O que voc\\u00ea pode fazer?\",\n          \"Carta no descarte: Amarelo 4, Cartas na m\\u00e3o: [Azul 2,Vermelho 8,Azul 0,Verde Bloquear]. Qual carta voc\\u00ea pode jogar?\"\n        ],\n        \"semantic_type\": \"\",\n        \"description\": \"\"\n      }\n    },\n    {\n      \"column\": \"completion\",\n      \"properties\": {\n        \"dtype\": \"string\",\n        \"num_unique_values\": 415,\n        \"samples\": [\n          \"Verde +2.  Combina com a regra 4.\",\n          \"Amarelo +2.  Combina com a cor da carta descartada.\",\n          \"Azul 9.  Combina com a cor e o n\\u00famero da carta descartada.\"\n        ],\n        \"semantic_type\": \"\",\n        \"description\": \"\"\n      }\n    }\n  ]\n}"
            }
          },
          "metadata": {},
          "execution_count": 135
        }
      ]
    },
    {
      "cell_type": "code",
      "source": [
        "# df.to_csv('/content/drive/MyDrive/Estudos/LLM_Fine-tuning/training_data.csv')"
      ],
      "metadata": {
        "id": "EfMCpm4Jxgs_"
      },
      "execution_count": null,
      "outputs": []
    },
    {
      "cell_type": "markdown",
      "source": [
        "# Fine-Tuning"
      ],
      "metadata": {
        "id": "EPjcplwvzcr9"
      }
    },
    {
      "cell_type": "code",
      "source": [
        "df = pd.read_csv('/content/drive/MyDrive/Estudos/LLM_Fine-tuning/training_data.csv', index_col=0)"
      ],
      "metadata": {
        "id": "H4SRV1A4iuOv"
      },
      "execution_count": null,
      "outputs": []
    },
    {
      "cell_type": "code",
      "source": [
        "df"
      ],
      "metadata": {
        "colab": {
          "base_uri": "https://localhost:8080/",
          "height": 423
        },
        "id": "p4N2Wjs9mXAZ",
        "outputId": "11d01e84-0e4c-4e64-ea44-83a0703428aa"
      },
      "execution_count": null,
      "outputs": [
        {
          "output_type": "execute_result",
          "data": {
            "text/plain": [
              "                                                prompt  \\\n",
              "0    Carta no descarte: Amarelo 7, Cartas na mão: [...   \n",
              "1    Carta no descarte: Amarelo 7, Cartas na mão: [...   \n",
              "2    Carta no descarte: Amarelo 7, Cartas na mão: [...   \n",
              "3    Carta no descarte: Azul 8, Cartas na mão: [Cor...   \n",
              "4    Carta no descarte: Verde +2, Cartas na mão: [A...   \n",
              "..                                                 ...   \n",
              "502  Carta no descarte: Verde 2, Cartas na mão: [Ve...   \n",
              "503  Carta no descarte: Amarelo Inverter, Cartas na...   \n",
              "504  Carta no descarte: Verde Bloquear, Cartas na m...   \n",
              "505  Carta no descarte: Vermelho 2, Cartas na mão: ...   \n",
              "506  Carta no descarte: Amarelo 8, Cartas na mão: [...   \n",
              "\n",
              "                                            completion  \n",
              "0                                   Jogue o Amarelo 7.  \n",
              "1          Amarelo 7.  Combina com a carta descartada.  \n",
              "2    Amarelo 7.  Combina com a cor e o número da ca...  \n",
              "3     Vermelho 8.  Combina com o número 8 no descarte.  \n",
              "4                                     Jogue o Verde 1.  \n",
              "..                                                 ...  \n",
              "502  Jogar o Vermelho 2.  Combina com o número da c...  \n",
              "503  Comprar carta.  Não há cartas na mão que combi...  \n",
              "504                                Jogue o Amarelo +2.  \n",
              "505    Vermelho 4. Combina com o número 2 no descarte.  \n",
              "506  Jogue o Amarelo 7.  Combina com a cor do desca...  \n",
              "\n",
              "[507 rows x 2 columns]"
            ],
            "text/html": [
              "\n",
              "  <div id=\"df-ca08e3e9-9866-4556-99da-202902778297\" class=\"colab-df-container\">\n",
              "    <div>\n",
              "<style scoped>\n",
              "    .dataframe tbody tr th:only-of-type {\n",
              "        vertical-align: middle;\n",
              "    }\n",
              "\n",
              "    .dataframe tbody tr th {\n",
              "        vertical-align: top;\n",
              "    }\n",
              "\n",
              "    .dataframe thead th {\n",
              "        text-align: right;\n",
              "    }\n",
              "</style>\n",
              "<table border=\"1\" class=\"dataframe\">\n",
              "  <thead>\n",
              "    <tr style=\"text-align: right;\">\n",
              "      <th></th>\n",
              "      <th>prompt</th>\n",
              "      <th>completion</th>\n",
              "    </tr>\n",
              "  </thead>\n",
              "  <tbody>\n",
              "    <tr>\n",
              "      <th>0</th>\n",
              "      <td>Carta no descarte: Amarelo 7, Cartas na mão: [...</td>\n",
              "      <td>Jogue o Amarelo 7.</td>\n",
              "    </tr>\n",
              "    <tr>\n",
              "      <th>1</th>\n",
              "      <td>Carta no descarte: Amarelo 7, Cartas na mão: [...</td>\n",
              "      <td>Amarelo 7.  Combina com a carta descartada.</td>\n",
              "    </tr>\n",
              "    <tr>\n",
              "      <th>2</th>\n",
              "      <td>Carta no descarte: Amarelo 7, Cartas na mão: [...</td>\n",
              "      <td>Amarelo 7.  Combina com a cor e o número da ca...</td>\n",
              "    </tr>\n",
              "    <tr>\n",
              "      <th>3</th>\n",
              "      <td>Carta no descarte: Azul 8, Cartas na mão: [Cor...</td>\n",
              "      <td>Vermelho 8.  Combina com o número 8 no descarte.</td>\n",
              "    </tr>\n",
              "    <tr>\n",
              "      <th>4</th>\n",
              "      <td>Carta no descarte: Verde +2, Cartas na mão: [A...</td>\n",
              "      <td>Jogue o Verde 1.</td>\n",
              "    </tr>\n",
              "    <tr>\n",
              "      <th>...</th>\n",
              "      <td>...</td>\n",
              "      <td>...</td>\n",
              "    </tr>\n",
              "    <tr>\n",
              "      <th>502</th>\n",
              "      <td>Carta no descarte: Verde 2, Cartas na mão: [Ve...</td>\n",
              "      <td>Jogar o Vermelho 2.  Combina com o número da c...</td>\n",
              "    </tr>\n",
              "    <tr>\n",
              "      <th>503</th>\n",
              "      <td>Carta no descarte: Amarelo Inverter, Cartas na...</td>\n",
              "      <td>Comprar carta.  Não há cartas na mão que combi...</td>\n",
              "    </tr>\n",
              "    <tr>\n",
              "      <th>504</th>\n",
              "      <td>Carta no descarte: Verde Bloquear, Cartas na m...</td>\n",
              "      <td>Jogue o Amarelo +2.</td>\n",
              "    </tr>\n",
              "    <tr>\n",
              "      <th>505</th>\n",
              "      <td>Carta no descarte: Vermelho 2, Cartas na mão: ...</td>\n",
              "      <td>Vermelho 4. Combina com o número 2 no descarte.</td>\n",
              "    </tr>\n",
              "    <tr>\n",
              "      <th>506</th>\n",
              "      <td>Carta no descarte: Amarelo 8, Cartas na mão: [...</td>\n",
              "      <td>Jogue o Amarelo 7.  Combina com a cor do desca...</td>\n",
              "    </tr>\n",
              "  </tbody>\n",
              "</table>\n",
              "<p>507 rows × 2 columns</p>\n",
              "</div>\n",
              "    <div class=\"colab-df-buttons\">\n",
              "\n",
              "  <div class=\"colab-df-container\">\n",
              "    <button class=\"colab-df-convert\" onclick=\"convertToInteractive('df-ca08e3e9-9866-4556-99da-202902778297')\"\n",
              "            title=\"Convert this dataframe to an interactive table.\"\n",
              "            style=\"display:none;\">\n",
              "\n",
              "  <svg xmlns=\"http://www.w3.org/2000/svg\" height=\"24px\" viewBox=\"0 -960 960 960\">\n",
              "    <path d=\"M120-120v-720h720v720H120Zm60-500h600v-160H180v160Zm220 220h160v-160H400v160Zm0 220h160v-160H400v160ZM180-400h160v-160H180v160Zm440 0h160v-160H620v160ZM180-180h160v-160H180v160Zm440 0h160v-160H620v160Z\"/>\n",
              "  </svg>\n",
              "    </button>\n",
              "\n",
              "  <style>\n",
              "    .colab-df-container {\n",
              "      display:flex;\n",
              "      gap: 12px;\n",
              "    }\n",
              "\n",
              "    .colab-df-convert {\n",
              "      background-color: #E8F0FE;\n",
              "      border: none;\n",
              "      border-radius: 50%;\n",
              "      cursor: pointer;\n",
              "      display: none;\n",
              "      fill: #1967D2;\n",
              "      height: 32px;\n",
              "      padding: 0 0 0 0;\n",
              "      width: 32px;\n",
              "    }\n",
              "\n",
              "    .colab-df-convert:hover {\n",
              "      background-color: #E2EBFA;\n",
              "      box-shadow: 0px 1px 2px rgba(60, 64, 67, 0.3), 0px 1px 3px 1px rgba(60, 64, 67, 0.15);\n",
              "      fill: #174EA6;\n",
              "    }\n",
              "\n",
              "    .colab-df-buttons div {\n",
              "      margin-bottom: 4px;\n",
              "    }\n",
              "\n",
              "    [theme=dark] .colab-df-convert {\n",
              "      background-color: #3B4455;\n",
              "      fill: #D2E3FC;\n",
              "    }\n",
              "\n",
              "    [theme=dark] .colab-df-convert:hover {\n",
              "      background-color: #434B5C;\n",
              "      box-shadow: 0px 1px 3px 1px rgba(0, 0, 0, 0.15);\n",
              "      filter: drop-shadow(0px 1px 2px rgba(0, 0, 0, 0.3));\n",
              "      fill: #FFFFFF;\n",
              "    }\n",
              "  </style>\n",
              "\n",
              "    <script>\n",
              "      const buttonEl =\n",
              "        document.querySelector('#df-ca08e3e9-9866-4556-99da-202902778297 button.colab-df-convert');\n",
              "      buttonEl.style.display =\n",
              "        google.colab.kernel.accessAllowed ? 'block' : 'none';\n",
              "\n",
              "      async function convertToInteractive(key) {\n",
              "        const element = document.querySelector('#df-ca08e3e9-9866-4556-99da-202902778297');\n",
              "        const dataTable =\n",
              "          await google.colab.kernel.invokeFunction('convertToInteractive',\n",
              "                                                    [key], {});\n",
              "        if (!dataTable) return;\n",
              "\n",
              "        const docLinkHtml = 'Like what you see? Visit the ' +\n",
              "          '<a target=\"_blank\" href=https://colab.research.google.com/notebooks/data_table.ipynb>data table notebook</a>'\n",
              "          + ' to learn more about interactive tables.';\n",
              "        element.innerHTML = '';\n",
              "        dataTable['output_type'] = 'display_data';\n",
              "        await google.colab.output.renderOutput(dataTable, element);\n",
              "        const docLink = document.createElement('div');\n",
              "        docLink.innerHTML = docLinkHtml;\n",
              "        element.appendChild(docLink);\n",
              "      }\n",
              "    </script>\n",
              "  </div>\n",
              "\n",
              "\n",
              "    <div id=\"df-79d941a4-f5b1-4d4c-ae70-41a0bd0feccc\">\n",
              "      <button class=\"colab-df-quickchart\" onclick=\"quickchart('df-79d941a4-f5b1-4d4c-ae70-41a0bd0feccc')\"\n",
              "                title=\"Suggest charts\"\n",
              "                style=\"display:none;\">\n",
              "\n",
              "<svg xmlns=\"http://www.w3.org/2000/svg\" height=\"24px\"viewBox=\"0 0 24 24\"\n",
              "     width=\"24px\">\n",
              "    <g>\n",
              "        <path d=\"M19 3H5c-1.1 0-2 .9-2 2v14c0 1.1.9 2 2 2h14c1.1 0 2-.9 2-2V5c0-1.1-.9-2-2-2zM9 17H7v-7h2v7zm4 0h-2V7h2v10zm4 0h-2v-4h2v4z\"/>\n",
              "    </g>\n",
              "</svg>\n",
              "      </button>\n",
              "\n",
              "<style>\n",
              "  .colab-df-quickchart {\n",
              "      --bg-color: #E8F0FE;\n",
              "      --fill-color: #1967D2;\n",
              "      --hover-bg-color: #E2EBFA;\n",
              "      --hover-fill-color: #174EA6;\n",
              "      --disabled-fill-color: #AAA;\n",
              "      --disabled-bg-color: #DDD;\n",
              "  }\n",
              "\n",
              "  [theme=dark] .colab-df-quickchart {\n",
              "      --bg-color: #3B4455;\n",
              "      --fill-color: #D2E3FC;\n",
              "      --hover-bg-color: #434B5C;\n",
              "      --hover-fill-color: #FFFFFF;\n",
              "      --disabled-bg-color: #3B4455;\n",
              "      --disabled-fill-color: #666;\n",
              "  }\n",
              "\n",
              "  .colab-df-quickchart {\n",
              "    background-color: var(--bg-color);\n",
              "    border: none;\n",
              "    border-radius: 50%;\n",
              "    cursor: pointer;\n",
              "    display: none;\n",
              "    fill: var(--fill-color);\n",
              "    height: 32px;\n",
              "    padding: 0;\n",
              "    width: 32px;\n",
              "  }\n",
              "\n",
              "  .colab-df-quickchart:hover {\n",
              "    background-color: var(--hover-bg-color);\n",
              "    box-shadow: 0 1px 2px rgba(60, 64, 67, 0.3), 0 1px 3px 1px rgba(60, 64, 67, 0.15);\n",
              "    fill: var(--button-hover-fill-color);\n",
              "  }\n",
              "\n",
              "  .colab-df-quickchart-complete:disabled,\n",
              "  .colab-df-quickchart-complete:disabled:hover {\n",
              "    background-color: var(--disabled-bg-color);\n",
              "    fill: var(--disabled-fill-color);\n",
              "    box-shadow: none;\n",
              "  }\n",
              "\n",
              "  .colab-df-spinner {\n",
              "    border: 2px solid var(--fill-color);\n",
              "    border-color: transparent;\n",
              "    border-bottom-color: var(--fill-color);\n",
              "    animation:\n",
              "      spin 1s steps(1) infinite;\n",
              "  }\n",
              "\n",
              "  @keyframes spin {\n",
              "    0% {\n",
              "      border-color: transparent;\n",
              "      border-bottom-color: var(--fill-color);\n",
              "      border-left-color: var(--fill-color);\n",
              "    }\n",
              "    20% {\n",
              "      border-color: transparent;\n",
              "      border-left-color: var(--fill-color);\n",
              "      border-top-color: var(--fill-color);\n",
              "    }\n",
              "    30% {\n",
              "      border-color: transparent;\n",
              "      border-left-color: var(--fill-color);\n",
              "      border-top-color: var(--fill-color);\n",
              "      border-right-color: var(--fill-color);\n",
              "    }\n",
              "    40% {\n",
              "      border-color: transparent;\n",
              "      border-right-color: var(--fill-color);\n",
              "      border-top-color: var(--fill-color);\n",
              "    }\n",
              "    60% {\n",
              "      border-color: transparent;\n",
              "      border-right-color: var(--fill-color);\n",
              "    }\n",
              "    80% {\n",
              "      border-color: transparent;\n",
              "      border-right-color: var(--fill-color);\n",
              "      border-bottom-color: var(--fill-color);\n",
              "    }\n",
              "    90% {\n",
              "      border-color: transparent;\n",
              "      border-bottom-color: var(--fill-color);\n",
              "    }\n",
              "  }\n",
              "</style>\n",
              "\n",
              "      <script>\n",
              "        async function quickchart(key) {\n",
              "          const quickchartButtonEl =\n",
              "            document.querySelector('#' + key + ' button');\n",
              "          quickchartButtonEl.disabled = true;  // To prevent multiple clicks.\n",
              "          quickchartButtonEl.classList.add('colab-df-spinner');\n",
              "          try {\n",
              "            const charts = await google.colab.kernel.invokeFunction(\n",
              "                'suggestCharts', [key], {});\n",
              "          } catch (error) {\n",
              "            console.error('Error during call to suggestCharts:', error);\n",
              "          }\n",
              "          quickchartButtonEl.classList.remove('colab-df-spinner');\n",
              "          quickchartButtonEl.classList.add('colab-df-quickchart-complete');\n",
              "        }\n",
              "        (() => {\n",
              "          let quickchartButtonEl =\n",
              "            document.querySelector('#df-79d941a4-f5b1-4d4c-ae70-41a0bd0feccc button');\n",
              "          quickchartButtonEl.style.display =\n",
              "            google.colab.kernel.accessAllowed ? 'block' : 'none';\n",
              "        })();\n",
              "      </script>\n",
              "    </div>\n",
              "\n",
              "  <div id=\"id_4c10fbfe-a02d-4c17-90dd-296bbf248d94\">\n",
              "    <style>\n",
              "      .colab-df-generate {\n",
              "        background-color: #E8F0FE;\n",
              "        border: none;\n",
              "        border-radius: 50%;\n",
              "        cursor: pointer;\n",
              "        display: none;\n",
              "        fill: #1967D2;\n",
              "        height: 32px;\n",
              "        padding: 0 0 0 0;\n",
              "        width: 32px;\n",
              "      }\n",
              "\n",
              "      .colab-df-generate:hover {\n",
              "        background-color: #E2EBFA;\n",
              "        box-shadow: 0px 1px 2px rgba(60, 64, 67, 0.3), 0px 1px 3px 1px rgba(60, 64, 67, 0.15);\n",
              "        fill: #174EA6;\n",
              "      }\n",
              "\n",
              "      [theme=dark] .colab-df-generate {\n",
              "        background-color: #3B4455;\n",
              "        fill: #D2E3FC;\n",
              "      }\n",
              "\n",
              "      [theme=dark] .colab-df-generate:hover {\n",
              "        background-color: #434B5C;\n",
              "        box-shadow: 0px 1px 3px 1px rgba(0, 0, 0, 0.15);\n",
              "        filter: drop-shadow(0px 1px 2px rgba(0, 0, 0, 0.3));\n",
              "        fill: #FFFFFF;\n",
              "      }\n",
              "    </style>\n",
              "    <button class=\"colab-df-generate\" onclick=\"generateWithVariable('df')\"\n",
              "            title=\"Generate code using this dataframe.\"\n",
              "            style=\"display:none;\">\n",
              "\n",
              "  <svg xmlns=\"http://www.w3.org/2000/svg\" height=\"24px\"viewBox=\"0 0 24 24\"\n",
              "       width=\"24px\">\n",
              "    <path d=\"M7,19H8.4L18.45,9,17,7.55,7,17.6ZM5,21V16.75L18.45,3.32a2,2,0,0,1,2.83,0l1.4,1.43a1.91,1.91,0,0,1,.58,1.4,1.91,1.91,0,0,1-.58,1.4L9.25,21ZM18.45,9,17,7.55Zm-12,3A5.31,5.31,0,0,0,4.9,8.1,5.31,5.31,0,0,0,1,6.5,5.31,5.31,0,0,0,4.9,4.9,5.31,5.31,0,0,0,6.5,1,5.31,5.31,0,0,0,8.1,4.9,5.31,5.31,0,0,0,12,6.5,5.46,5.46,0,0,0,6.5,12Z\"/>\n",
              "  </svg>\n",
              "    </button>\n",
              "    <script>\n",
              "      (() => {\n",
              "      const buttonEl =\n",
              "        document.querySelector('#id_4c10fbfe-a02d-4c17-90dd-296bbf248d94 button.colab-df-generate');\n",
              "      buttonEl.style.display =\n",
              "        google.colab.kernel.accessAllowed ? 'block' : 'none';\n",
              "\n",
              "      buttonEl.onclick = () => {\n",
              "        google.colab.notebook.generateWithVariable('df');\n",
              "      }\n",
              "      })();\n",
              "    </script>\n",
              "  </div>\n",
              "\n",
              "    </div>\n",
              "  </div>\n"
            ],
            "application/vnd.google.colaboratory.intrinsic+json": {
              "type": "dataframe",
              "variable_name": "df",
              "summary": "{\n  \"name\": \"df\",\n  \"rows\": 507,\n  \"fields\": [\n    {\n      \"column\": \"prompt\",\n      \"properties\": {\n        \"dtype\": \"string\",\n        \"num_unique_values\": 502,\n        \"samples\": [\n          \"Carta no descarte: Verde 9, Cartas na m\\u00e3o: [Amarelo 9,Verde 5,Vermelho Bloquear]. Qual carta voc\\u00ea pode jogar?\",\n          \"Carta no descarte: Amarelo 5, Cartas na m\\u00e3o: [Amarelo 9,Verde 8,Amarelo 4,Amarelo +2]. O que voc\\u00ea pode fazer?\",\n          \"Carta no descarte: Amarelo 4, Cartas na m\\u00e3o: [Azul 2,Vermelho 8,Azul 0,Verde Bloquear]. Qual carta voc\\u00ea pode jogar?\"\n        ],\n        \"semantic_type\": \"\",\n        \"description\": \"\"\n      }\n    },\n    {\n      \"column\": \"completion\",\n      \"properties\": {\n        \"dtype\": \"string\",\n        \"num_unique_values\": 415,\n        \"samples\": [\n          \"Verde +2.  Combina com a regra 4.\",\n          \"Amarelo +2.  Combina com a cor da carta descartada.\",\n          \"Azul 9.  Combina com a cor e o n\\u00famero da carta descartada.\"\n        ],\n        \"semantic_type\": \"\",\n        \"description\": \"\"\n      }\n    }\n  ]\n}"
            }
          },
          "metadata": {},
          "execution_count": 13
        }
      ]
    },
    {
      "cell_type": "code",
      "source": [
        "# Dataset Treatment\n",
        "\n",
        "raw_dataset = Dataset.from_pandas(df)\n",
        "train_dataset = raw_dataset.train_test_split(test_size=0.1, seed=42)['train']\n",
        "eval_dataset = raw_dataset.train_test_split(test_size=0.1, seed=42)['test']\n",
        "\n",
        "# Formatting the dataset to the SFTTrainer format\n",
        "def formatting_prompts(examples):\n",
        "    output_texts = []\n",
        "    for i in range(len(examples['prompt'])):\n",
        "        text = f\"{examples['prompt'][i]}\\n{examples['completion'][i]}{tokenizer_gemma.eos_token}\"\n",
        "        output_texts.append(text)\n",
        "    return {\"text\": output_texts}\n",
        "\n",
        "train_dataset_formatted = train_dataset.map(formatting_prompts, batched=True)\n",
        "eval_dataset_formatted = eval_dataset.map(formatting_prompts, batched=True)\n"
      ],
      "metadata": {
        "id": "rN7BRS0Izd28"
      },
      "execution_count": null,
      "outputs": []
    },
    {
      "cell_type": "code",
      "source": [
        "train_dataset_formatted"
      ],
      "metadata": {
        "colab": {
          "base_uri": "https://localhost:8080/"
        },
        "id": "JHrTRY8SmFPZ",
        "outputId": "6756d3cf-fbf2-43cf-ede2-55f5764c87fb"
      },
      "execution_count": null,
      "outputs": [
        {
          "output_type": "execute_result",
          "data": {
            "text/plain": [
              "Dataset({\n",
              "    features: ['prompt', 'completion', '__index_level_0__', 'text'],\n",
              "    num_rows: 456\n",
              "})"
            ]
          },
          "metadata": {},
          "execution_count": 17
        }
      ]
    },
    {
      "cell_type": "code",
      "source": [
        "# LORA Configuration\n",
        "\n",
        "lora_config = LoraConfig(\n",
        "    r=16,\n",
        "    lora_alpha=16,\n",
        "    lora_dropout=0.05,\n",
        "    target_modules=[\"q_proj\", \"o_proj\", \"k_proj\", \"v_proj\", \"gate_proj\", \"up_proj\", \"down_proj\"],\n",
        "    task_type=\"CAUSAL_LM\",\n",
        ")\n",
        "\n",
        "model_gemma = get_peft_model(model_gemma, lora_config)\n"
      ],
      "metadata": {
        "id": "_SFywW46zx-V"
      },
      "execution_count": null,
      "outputs": []
    },
    {
      "cell_type": "code",
      "source": [
        "# Training configuration\n",
        "from transformers import TrainingArguments\n",
        "\n",
        "training_arguments = SFTConfig(\n",
        "    output_dir=\"/content/drive/MyDrive/Estudos/LLM_Fine-tuning/models/gemma_uno_finetuned\",\n",
        "    num_train_epochs=10,\n",
        "    per_device_train_batch_size=2,\n",
        "    gradient_accumulation_steps=4,\n",
        "    learning_rate=1e-4,\n",
        "    save_strategy=\"epoch\",\n",
        "    eval_strategy=\"epoch\",\n",
        "    fp16=True,\n",
        "    seed=42,\n",
        "    dataset_text_field='text',\n",
        "    report_to=\"none\",\n",
        "    logging_steps=50,\n",
        ")\n",
        "\n",
        "trainer = SFTTrainer(\n",
        "    model=model_gemma,\n",
        "    train_dataset=train_dataset_formatted,\n",
        "    eval_dataset=eval_dataset_formatted,\n",
        "    args=training_arguments,\n",
        "    peft_config=lora_config\n",
        ")\n",
        "\n"
      ],
      "metadata": {
        "id": "1fkbD4Etz1OI"
      },
      "execution_count": null,
      "outputs": []
    },
    {
      "cell_type": "code",
      "source": [
        "trainer.train()"
      ],
      "metadata": {
        "colab": {
          "base_uri": "https://localhost:8080/",
          "height": 426
        },
        "id": "jGD_l24zR5-k",
        "outputId": "3efd17c7-5294-43ec-d926-c8ec4c2ed6dd"
      },
      "execution_count": null,
      "outputs": [
        {
          "output_type": "display_data",
          "data": {
            "text/plain": [
              "<IPython.core.display.HTML object>"
            ],
            "text/html": [
              "\n",
              "    <div>\n",
              "      \n",
              "      <progress value='570' max='570' style='width:300px; height:20px; vertical-align: middle;'></progress>\n",
              "      [570/570 16:57, Epoch 10/10]\n",
              "    </div>\n",
              "    <table border=\"1\" class=\"dataframe\">\n",
              "  <thead>\n",
              " <tr style=\"text-align: left;\">\n",
              "      <th>Epoch</th>\n",
              "      <th>Training Loss</th>\n",
              "      <th>Validation Loss</th>\n",
              "    </tr>\n",
              "  </thead>\n",
              "  <tbody>\n",
              "    <tr>\n",
              "      <td>1</td>\n",
              "      <td>1.048900</td>\n",
              "      <td>0.480622</td>\n",
              "    </tr>\n",
              "    <tr>\n",
              "      <td>2</td>\n",
              "      <td>0.378800</td>\n",
              "      <td>0.466657</td>\n",
              "    </tr>\n",
              "    <tr>\n",
              "      <td>3</td>\n",
              "      <td>0.288200</td>\n",
              "      <td>0.453518</td>\n",
              "    </tr>\n",
              "    <tr>\n",
              "      <td>4</td>\n",
              "      <td>0.227900</td>\n",
              "      <td>0.473695</td>\n",
              "    </tr>\n",
              "    <tr>\n",
              "      <td>5</td>\n",
              "      <td>0.157200</td>\n",
              "      <td>0.608295</td>\n",
              "    </tr>\n",
              "    <tr>\n",
              "      <td>6</td>\n",
              "      <td>0.127300</td>\n",
              "      <td>0.579208</td>\n",
              "    </tr>\n",
              "    <tr>\n",
              "      <td>7</td>\n",
              "      <td>0.072900</td>\n",
              "      <td>0.691460</td>\n",
              "    </tr>\n",
              "    <tr>\n",
              "      <td>8</td>\n",
              "      <td>0.017100</td>\n",
              "      <td>0.805658</td>\n",
              "    </tr>\n",
              "    <tr>\n",
              "      <td>9</td>\n",
              "      <td>0.006200</td>\n",
              "      <td>0.889296</td>\n",
              "    </tr>\n",
              "    <tr>\n",
              "      <td>10</td>\n",
              "      <td>0.002200</td>\n",
              "      <td>0.917185</td>\n",
              "    </tr>\n",
              "  </tbody>\n",
              "</table><p>"
            ]
          },
          "metadata": {}
        },
        {
          "output_type": "execute_result",
          "data": {
            "text/plain": [
              "TrainOutput(global_step=570, training_loss=0.2081965192694936, metrics={'train_runtime': 1019.2364, 'train_samples_per_second': 4.474, 'train_steps_per_second': 0.559, 'total_flos': 1.408063731929088e+16, 'train_loss': 0.2081965192694936})"
            ]
          },
          "metadata": {},
          "execution_count": 27
        }
      ]
    },
    {
      "cell_type": "markdown",
      "source": [
        "# Fine-tuned Model Evaluation\n",
        "\n",
        "---\n",
        "\n"
      ],
      "metadata": {
        "id": "fFCeG3VutYHM"
      }
    },
    {
      "cell_type": "code",
      "source": [
        "from peft import AutoPeftModelForCausalLM\n",
        "\n",
        "trained_model = AutoPeftModelForCausalLM.from_pretrained(\n",
        "    '/content/drive/MyDrive/Estudos/LLM_Fine-tuning/models/gemma_uno_finetuned/checkpoint-171', # 3rd epoch, model without overfitting\n",
        "    low_cpu_mem_usage=True,\n",
        "    return_dict=True,\n",
        "    torch_dtype=torch.float16,\n",
        "    device_map=\"auto\",\n",
        ")"
      ],
      "metadata": {
        "id": "mB6J7jAFtaAC"
      },
      "execution_count": null,
      "outputs": []
    },
    {
      "cell_type": "code",
      "source": [
        "trained_model = trained_model.merge_and_unload()"
      ],
      "metadata": {
        "id": "zuDRdUnItaXi"
      },
      "execution_count": null,
      "outputs": []
    },
    {
      "cell_type": "code",
      "source": [
        "# Save the merged model\n",
        "trained_model.save_pretrained(\"/content/drive/MyDrive/Estudos/LLM_Fine-tuning/models/gemma_uno_finetuned/gemma_tuned_merged\", safe_serialization=True)\n",
        "tokenizer_gemma.save_pretrained(\"/content/drive/MyDrive/Estudos/LLM_Fine-tuning/models/gemma_uno_finetuned/gemma-7b-tuned-merged\")"
      ],
      "metadata": {
        "id": "PFRhMrHuuj15"
      },
      "execution_count": null,
      "outputs": []
    },
    {
      "cell_type": "code",
      "source": [
        "trained_model = AutoModelForCausalLM.from_pretrained(\n",
        "    '/content/drive/MyDrive/Estudos/LLM_Fine-tuning/models/gemma_uno_finetuned/gemma_tuned_merged',\n",
        "    torch_dtype=torch.bfloat16,\n",
        "    device_map=\"auto\",\n",
        ")"
      ],
      "metadata": {
        "id": "VkQvloQpyTeu"
      },
      "execution_count": null,
      "outputs": []
    },
    {
      "cell_type": "code",
      "source": [
        "trained_response_1 = generate_response(trained_model, prompt_1)\n",
        "trained_response_2 = generate_response(trained_model, prompt_2)\n",
        "trained_response_3 = generate_response(trained_model, prompt_3)\n",
        "trained_response_4 = generate_response(trained_model, prompt_4)\n",
        "trained_response_5 = generate_response(trained_model, prompt_5)"
      ],
      "metadata": {
        "id": "Mk7liuNBgNdM"
      },
      "execution_count": 39,
      "outputs": []
    },
    {
      "cell_type": "code",
      "source": [
        "# Model examples\n",
        "responses = [trained_response_1, trained_response_2, trained_response_3, trained_response_4, trained_response_5]\n",
        "\n",
        "for prompt, response in zip(prompts, responses):\n",
        "  print(f\"**Prompt:**\\n{prompt}\\n\")\n",
        "  print(f\"**Answer:**\\n{response}\\n\")\n",
        "  print(\"-\" * 50)\n"
      ],
      "metadata": {
        "colab": {
          "base_uri": "https://localhost:8080/"
        },
        "id": "XghkiwtbgfZg",
        "outputId": "b0fe3d96-b2dd-4aed-bfb3-3721e6e263cb"
      },
      "execution_count": 40,
      "outputs": [
        {
          "output_type": "stream",
          "name": "stdout",
          "text": [
            "**Prompt:**\n",
            "\n",
            "Você está jogando Uno.\n",
            "A carta no descarte é: Vermelho 7\n",
            "Minha mão tem as seguintes cartas: [Azul 3, Vermelho 8, Verde 5, +2 Amarelo].\n",
            "Qual carta você pode jogar?\n",
            "\n",
            "\n",
            "**Answer:**\n",
            "Vermelho 8.\n",
            "\n",
            "--------------------------------------------------\n",
            "**Prompt:**\n",
            "\n",
            "Você está jogando Uno.\n",
            "A carta no descarte é: Vermelho +2.\n",
            "Sua mão tem as seguintes cartas: [Verde 0, Azul 1, Bloquear Vermelho].\n",
            "Qual carta você pode jogar?\n",
            "\n",
            "\n",
            "**Answer:**\n",
            "Bloquear Vermelho.\n",
            "\n",
            "--------------------------------------------------\n",
            "**Prompt:**\n",
            "\n",
            "Você está jogando Uno.\n",
            "A carta no descarte é: Azul 4.\n",
            "Sua mão tem as seguintes cartas: [Verde 0, Azul 1, Bloquear Vermelho].\n",
            "Qual carta você pode jogar?\n",
            "\n",
            "\n",
            "**Answer:**\n",
            "Azul 1.\n",
            "\n",
            "--------------------------------------------------\n",
            "**Prompt:**\n",
            "\n",
            "Você está jogando Uno.\n",
            "Carta no descarte: Azul 8,\n",
            "Cartas na mão: [Coringa,Vermelho 8,Amarelo +2,Verde 7,Vermelho 3,Vermelho 9,Amarelo 4].\n",
            "Qual carta você pode jogar?\n",
            "\n",
            "\n",
            "**Answer:**\n",
            "Vermelho 8.\n",
            "\n",
            "--------------------------------------------------\n",
            "**Prompt:**\n",
            "\n",
            "Você está jogando Uno.\n",
            "Carta no descarte: Vermelho 2,\n",
            "Cartas na mão: [Azul 3,Vermelho 4,Amarelo 4,Amarelo Inverter,Verde +2,Azul 6,Vermelho 3].\n",
            "Qual carta você pode jogar?\n",
            "\n",
            "\n",
            "**Answer:**\n",
            "Vermelho 4.\n",
            "\n",
            "--------------------------------------------------\n"
          ]
        }
      ]
    }
  ]
}